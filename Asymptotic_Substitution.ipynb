{
 "cells": [
  {
   "cell_type": "code",
   "execution_count": 31,
   "metadata": {},
   "outputs": [],
   "source": [
    "from sympy import symbols, expand, exp, Eq, latex, collect, simplify\n",
    "import numpy as np\n",
    "from IPython.display import display, Math\n",
    "\n"
   ]
  },
  {
   "cell_type": "code",
   "execution_count": 32,
   "metadata": {},
   "outputs": [],
   "source": [
    "def Multiscale_Ansantz(ode, epsilon, d2, d1, f_t):\n",
    "  d_dx, d2_dx2 = symbols('d_dx d2_dx2')\n",
    "  f, f0, f1 = symbols('f f_0 f_1')\n",
    "  x = symbols('x')\n",
    "  d_dxs, d_dxf, d2_dxf2, d2_dxs2, d2_dxfdxs = symbols('(d/dx_s) (d/dx_f) (d^{2}/dx_f^{2}) (d^{2}/dx_s^{2}) (d^{2}/dx_fdx_s)')\n",
    "\n",
    "  d_dx = (d_dxs * epsilon) + d_dxf\n",
    "  d2_dx2 = d2_dxs2*(epsilon**2) + 2*epsilon*d2_dxfdxs + d2_dxf2\n",
    "  f = f0 + epsilon* f1\n",
    "    #--- substitute expansion for f and new derivatives\n",
    "  lhs = ode.lhs.subs(d2, d2_dx2).subs(d1, d_dx).subs(f_t, f)\n",
    "  rhs = ode.rhs.subs(d2, d2_dx2).subs(d1, d_dx).subs(f_t, f)\n",
    "\n",
    "  #--- collect epsilon terms\n",
    "  grouped_lhs = collect(expand(lhs), epsilon)\n",
    "  grouped_rhs = collect(expand(rhs), epsilon)\n",
    "\n",
    "  #--- formatting\n",
    "  latex_lhs = latex(grouped_lhs)\n",
    "  latex_rhs = latex(grouped_rhs)\n",
    "  display_latex = f\"$$ {latex_lhs} = {latex_rhs} $$\"\n",
    "\n",
    "  return display_latex\n",
    "\n",
    "def WKB_Ansantz(ode, epsilon, d2, d, f_t):\n",
    "\n",
    "  #--- symbolic variables\n",
    "  d_dx, d2_dx2 = symbols('d_dx d2_dx2')\n",
    "  f, f0, f1 = symbols('f f_0 f_1')\n",
    "  x = symbols('x')\n",
    "  d_dxs, d_dxf, d2_dxf2, d2_dxs2, d2_dxfdxs = symbols('(d/dx_s) (d/dx_f) (d^{2}/dx_f^{2}) (d^{2}/dx_s^{2}) (d^{2}/dx_fdx_s)')\n",
    "  g, gp, gpp = symbols('g g^p g^{pp}')\n",
    "\n",
    "  #--- Ansantz\n",
    "  f = f0 + epsilon* f1\n",
    "\n",
    "  d_dx = d_dxs + (gp / epsilon) * d_dxf\n",
    "  d2_dx2 = (d2_dxs2 \n",
    "            + (gpp / epsilon) * d_dxf \n",
    "            + 2 * (gp / epsilon) * d2_dxfdxs \n",
    "            + (gp**2 / epsilon**2) * d2_dxf2)\n",
    "\n",
    "  #--- substitute expansion for f and new derivatives\n",
    "  lhs = ode.lhs.subs(d2, d2_dx2).subs(d, d_dx).subs(f_t, f)\n",
    "  rhs = ode.rhs.subs(d2, d2_dx2).subs(d, d_dx).subs(f_t, f)\n",
    "\n",
    "  #--- collect epsilon terms\n",
    "  grouped_lhs = collect(expand(lhs), epsilon)\n",
    "  grouped_rhs = collect(expand(rhs), epsilon)\n",
    "\n",
    "  #--- formatting\n",
    "  latex_lhs = latex(grouped_lhs)\n",
    "  latex_rhs = latex(grouped_rhs)\n",
    "  display_latex = f\"$$ {latex_lhs} = {latex_rhs} $$\"\n",
    "\n",
    "  return display_latex\n",
    "\n",
    "\n",
    "\n"
   ]
  },
  {
   "cell_type": "code",
   "execution_count": null,
   "metadata": {},
   "outputs": [
    {
     "name": "stdout",
     "output_type": "stream",
     "text": [
      "Question 2: WKB\n"
     ]
    },
    {
     "data": {
      "text/latex": [
       "$\\displaystyle  (d/dx_{f)} f_{1} g^{pp} + 2 (d^{2}/dx_fdx_s) f_{1} g^{p} + (d^{2}/dx_s^{2}) \\epsilon f_{1} + (d^{2}/dx_s^{2}) f_{0} + \\frac{(d/dx_{f)} f_{0} g^{pp} + (d^{2}/dx_f^{2}) f_{1} \\left(g^{p}\\right)^{2} + 2 (d^{2}/dx_fdx_s) f_{0} g^{p} + f_{1} t^{2} + 2 f_{1} t + f_{1}}{\\epsilon} + \\frac{(d^{2}/dx_f^{2}) f_{0} \\left(g^{p}\\right)^{2} + f_{0} t^{2} + 2 f_{0} t + f_{0}}{\\epsilon^{2}} = 0 $"
      ],
      "text/plain": [
       "<IPython.core.display.Math object>"
      ]
     },
     "metadata": {},
     "output_type": "display_data"
    },
    {
     "name": "stdout",
     "output_type": "stream",
     "text": [
      "Question 1b: Multiscale\n"
     ]
    },
    {
     "data": {
      "text/latex": [
       "$\\displaystyle  (d^{2}/dx_f^{2}) f_{0} + (d^{2}/dx_s^{2}) \\epsilon^{3} f_{1} + \\epsilon^{2} \\cdot \\left(2 (d^{2}/dx_fdx_s) f_{1} + (d^{2}/dx_s^{2}) f_{0}\\right) + \\epsilon \\left((d^{2}/dx_f^{2}) f_{1} + 2 (d^{2}/dx_fdx_s) f_{0}\\right) = (d/dx_{s)}^{4} \\epsilon^{10} f_{1}^{5} + \\epsilon^{9} \\cdot \\left(4 (d/dx_{f)} (d/dx_{s)}^{3} f_{1}^{5} + 5 (d/dx_{s)}^{4} f_{0} f_{1}^{4}\\right) + \\epsilon^{8} \\cdot \\left(6 (d/dx_{f)}^{2} (d/dx_{s)}^{2} f_{1}^{5} + 20 (d/dx_{f)} (d/dx_{s)}^{3} f_{0} f_{1}^{4} + 10 (d/dx_{s)}^{4} f_{0}^{2} f_{1}^{3}\\right) + \\epsilon^{7} \\cdot \\left(4 (d/dx_{f)}^{3} (d/dx_{s)} f_{1}^{5} + 30 (d/dx_{f)}^{2} (d/dx_{s)}^{2} f_{0} f_{1}^{4} + 40 (d/dx_{f)} (d/dx_{s)}^{3} f_{0}^{2} f_{1}^{3} + 10 (d/dx_{s)}^{4} f_{0}^{3} f_{1}^{2}\\right) + \\epsilon^{6} \\left((d/dx_{f)}^{4} f_{1}^{5} + 20 (d/dx_{f)}^{3} (d/dx_{s)} f_{0} f_{1}^{4} + 60 (d/dx_{f)}^{2} (d/dx_{s)}^{2} f_{0}^{2} f_{1}^{3} + 40 (d/dx_{f)} (d/dx_{s)}^{3} f_{0}^{3} f_{1}^{2} + 5 (d/dx_{s)}^{4} f_{0}^{4} f_{1}\\right) + \\epsilon^{5} \\cdot \\left(5 (d/dx_{f)}^{4} f_{0} f_{1}^{4} + 40 (d/dx_{f)}^{3} (d/dx_{s)} f_{0}^{2} f_{1}^{3} + 60 (d/dx_{f)}^{2} (d/dx_{s)}^{2} f_{0}^{3} f_{1}^{2} + 20 (d/dx_{f)} (d/dx_{s)}^{3} f_{0}^{4} f_{1} + (d/dx_{s)}^{4} f_{0}^{5}\\right) + \\epsilon^{4} \\cdot \\left(10 (d/dx_{f)}^{4} f_{0}^{2} f_{1}^{3} + 40 (d/dx_{f)}^{3} (d/dx_{s)} f_{0}^{3} f_{1}^{2} + 30 (d/dx_{f)}^{2} (d/dx_{s)}^{2} f_{0}^{4} f_{1} + 4 (d/dx_{f)} (d/dx_{s)}^{3} f_{0}^{5}\\right) + \\epsilon^{3} \\cdot \\left(10 (d/dx_{f)}^{4} f_{0}^{3} f_{1}^{2} + 20 (d/dx_{f)}^{3} (d/dx_{s)} f_{0}^{4} f_{1} + 6 (d/dx_{f)}^{2} (d/dx_{s)}^{2} f_{0}^{5}\\right) + \\epsilon^{2} \\cdot \\left(5 (d/dx_{f)}^{4} f_{0}^{4} f_{1} + 4 (d/dx_{f)}^{3} (d/dx_{s)} f_{0}^{5}\\right) + \\epsilon \\left((d/dx_{f)}^{4} f_{0}^{5} - f_{1}\\right) - f_{0} $"
      ],
      "text/plain": [
       "<IPython.core.display.Math object>"
      ]
     },
     "metadata": {},
     "output_type": "display_data"
    },
    {
     "name": "stdout",
     "output_type": "stream",
     "text": [
      "Question 1b: WKB\n"
     ]
    },
    {
     "data": {
      "text/latex": [
       "$\\displaystyle  (d/dx_{f)} f_{1} g^{pp} + \\frac{(d^{2}/dx_f^{2}) f_{0} \\left(g^{p}\\right)^{2}}{\\epsilon^{2}} + 2 (d^{2}/dx_fdx_s) f_{1} g^{p} + (d^{2}/dx_s^{2}) \\epsilon f_{1} + (d^{2}/dx_s^{2}) f_{0} + \\frac{(d/dx_{f)} f_{0} g^{pp} + (d^{2}/dx_f^{2}) f_{1} \\left(g^{p}\\right)^{2} + 2 (d^{2}/dx_fdx_s) f_{0} g^{p}}{\\epsilon} = 10 (d/dx_{f)}^{4} f_{0}^{2} f_{1}^{3} \\left(g^{p}\\right)^{4} + \\frac{(d/dx_{f)}^{4} f_{0}^{5} \\left(g^{p}\\right)^{4}}{\\epsilon^{3}} + 40 (d/dx_{f)}^{3} (d/dx_{s)} f_{0}^{3} f_{1}^{2} \\left(g^{p}\\right)^{3} + 30 (d/dx_{f)}^{2} (d/dx_{s)}^{2} f_{0}^{4} f_{1} \\left(g^{p}\\right)^{2} + 4 (d/dx_{f)} (d/dx_{s)}^{3} f_{0}^{5} g^{p} + (d/dx_{s)}^{4} \\epsilon^{6} f_{1}^{5} + \\epsilon^{5} \\cdot \\left(4 (d/dx_{f)} (d/dx_{s)}^{3} f_{1}^{5} g^{p} + 5 (d/dx_{s)}^{4} f_{0} f_{1}^{4}\\right) + \\epsilon^{4} \\cdot \\left(6 (d/dx_{f)}^{2} (d/dx_{s)}^{2} f_{1}^{5} \\left(g^{p}\\right)^{2} + 20 (d/dx_{f)} (d/dx_{s)}^{3} f_{0} f_{1}^{4} g^{p} + 10 (d/dx_{s)}^{4} f_{0}^{2} f_{1}^{3}\\right) + \\epsilon^{3} \\cdot \\left(4 (d/dx_{f)}^{3} (d/dx_{s)} f_{1}^{5} \\left(g^{p}\\right)^{3} + 30 (d/dx_{f)}^{2} (d/dx_{s)}^{2} f_{0} f_{1}^{4} \\left(g^{p}\\right)^{2} + 40 (d/dx_{f)} (d/dx_{s)}^{3} f_{0}^{2} f_{1}^{3} g^{p} + 10 (d/dx_{s)}^{4} f_{0}^{3} f_{1}^{2}\\right) + \\epsilon^{2} \\left((d/dx_{f)}^{4} f_{1}^{5} \\left(g^{p}\\right)^{4} + 20 (d/dx_{f)}^{3} (d/dx_{s)} f_{0} f_{1}^{4} \\left(g^{p}\\right)^{3} + 60 (d/dx_{f)}^{2} (d/dx_{s)}^{2} f_{0}^{2} f_{1}^{3} \\left(g^{p}\\right)^{2} + 40 (d/dx_{f)} (d/dx_{s)}^{3} f_{0}^{3} f_{1}^{2} g^{p} + 5 (d/dx_{s)}^{4} f_{0}^{4} f_{1}\\right) + \\epsilon \\left(5 (d/dx_{f)}^{4} f_{0} f_{1}^{4} \\left(g^{p}\\right)^{4} + 40 (d/dx_{f)}^{3} (d/dx_{s)} f_{0}^{2} f_{1}^{3} \\left(g^{p}\\right)^{3} + 60 (d/dx_{f)}^{2} (d/dx_{s)}^{2} f_{0}^{3} f_{1}^{2} \\left(g^{p}\\right)^{2} + 20 (d/dx_{f)} (d/dx_{s)}^{3} f_{0}^{4} f_{1} g^{p} + (d/dx_{s)}^{4} f_{0}^{5} - f_{1}\\right) - f_{0} + \\frac{10 (d/dx_{f)}^{4} f_{0}^{3} f_{1}^{2} \\left(g^{p}\\right)^{4} + 20 (d/dx_{f)}^{3} (d/dx_{s)} f_{0}^{4} f_{1} \\left(g^{p}\\right)^{3} + 6 (d/dx_{f)}^{2} (d/dx_{s)}^{2} f_{0}^{5} \\left(g^{p}\\right)^{2}}{\\epsilon} + \\frac{5 (d/dx_{f)}^{4} f_{0}^{4} f_{1} \\left(g^{p}\\right)^{4} + 4 (d/dx_{f)}^{3} (d/dx_{s)} f_{0}^{5} \\left(g^{p}\\right)^{3}}{\\epsilon^{2}} $"
      ],
      "text/plain": [
       "<IPython.core.display.Math object>"
      ]
     },
     "metadata": {},
     "output_type": "display_data"
    }
   ],
   "source": [
    "if __name__ == \"__main__\":\n",
    "  #QUESTION 2 (Eigenvalue problem)--------\n",
    "  t = symbols('t')\n",
    "  f_t = symbols('f_t')\n",
    "  d2 = symbols(\"d2\")  \n",
    "  d = symbols(\"d\")\n",
    "  epsilon = symbols(\"epsilon\") # change here if g_denominator != epsilon\n",
    "\n",
    "  print(\"Question 2: WKB\")\n",
    "  ode = Eq(d2*f_t + (1/epsilon**2)*(t+1)**2*f_t, 0) \n",
    "  # also change epsilon here if g_denominator != epsilon\n",
    "  latex_displ = WKB_Ansantz(ode, epsilon, d2, d, f_t)\n",
    "  display(Math(latex_displ))\n",
    "\n",
    "  #QUESTION 1B ---------------------------\n",
    "  print(\"Question 1b: Multiscale\")\n",
    "  t = symbols('t')\n",
    "  f_t = symbols('f_t')\n",
    "  d2 = symbols(\"d2\")  \n",
    "  d1 = symbols(\"d1\")\n",
    "  epsilon = symbols(\"epsilon\")\n",
    "\n",
    "  ode = Eq(d2*f_t, -f_t + epsilon* f_t * (( d1 *f_t)**4))\n",
    "  latex_displ = Multiscale_Ansantz(ode, epsilon, d2, d1, f_t)\n",
    "  display(Math(latex_displ))\n",
    "\n",
    "\n",
    "\n",
    "  print(\"Question 1b: WKB\")\n",
    "  t = symbols('t')\n",
    "  f_t = symbols('f_t')\n",
    "  d2 = symbols(\"d2\")  \n",
    "  d1 = symbols(\"d1\")\n",
    "  epsilon = symbols(\"epsilon\")\n",
    "\n",
    "  ode = Eq(d2*f_t, -f_t + epsilon* f_t * (( d1 *f_t)**4))\n",
    "  latex_displ = WKB_Ansantz(ode, epsilon, d2, d1, f_t)\n",
    "  display(Math(latex_displ))"
   ]
  }
 ],
 "metadata": {
  "kernelspec": {
   "display_name": "Python 3",
   "language": "python",
   "name": "python3"
  },
  "language_info": {
   "codemirror_mode": {
    "name": "ipython",
    "version": 3
   },
   "file_extension": ".py",
   "mimetype": "text/x-python",
   "name": "python",
   "nbconvert_exporter": "python",
   "pygments_lexer": "ipython3",
   "version": "3.9.6"
  }
 },
 "nbformat": 4,
 "nbformat_minor": 2
}
