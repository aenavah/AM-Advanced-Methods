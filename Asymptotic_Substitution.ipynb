{
 "cells": [
  {
   "cell_type": "code",
   "execution_count": 191,
   "metadata": {},
   "outputs": [],
   "source": [
    "from sympy import symbols, expand, exp, Eq, latex, collect, simplify\n",
    "import numpy as np\n",
    "from IPython.display import display, Math\n",
    "\n"
   ]
  },
  {
   "cell_type": "code",
   "execution_count": 192,
   "metadata": {},
   "outputs": [],
   "source": [
    "def WKB_Ansantz(ode, epsilon, d2, d, f_t):\n",
    "\n",
    "  # symbolic variables\n",
    "  d_dx, d2_dx2 = symbols('d_dx d2_dx2')\n",
    "  f, f0, f1 = symbols('f f0 f1')\n",
    "  x = symbols('x')\n",
    "  d_dxs, d_dxf, d2_dxf2, d2_dxs2, d2_dxfdxs = symbols('(d/dx_s) (d/dx_f) (d^{2}/dx_f^{2}) (d^{2}/dx_s^{2}) (d^{2}/dx_fdx_s)')\n",
    "  g, gp, gpp = symbols('g gp gpp')\n",
    "\n",
    "  # Ansantz\n",
    "  f = f0 + epsilon * f1\n",
    "  d_dx = d_dxs + (gp / epsilon) * d_dxf\n",
    "  d2_dx2 = (d2_dxs2 + (gpp / epsilon) * d_dxf +\n",
    "            2 * (gp / epsilon) * d2_dxfdxs +\n",
    "            (gp**2 / epsilon**2) * d2_dxf2)\n",
    "\n",
    "  # substitute expansion for f and new derivatives\n",
    "  lhs = ode.lhs.subs(d2, d2_dx2).subs(d, d_dx).subs(f_t, f)\n",
    "  rhs = ode.rhs.subs(f_t, f)\n",
    "\n",
    "  #collect epsilon terms\n",
    "  grouped_lhs = collect(expand(lhs), epsilon)\n",
    "  grouped_rhs = collect(expand(rhs), epsilon)\n",
    "\n",
    "  # formatting\n",
    "  latex_lhs = latex(grouped_lhs)\n",
    "  latex_rhs = latex(grouped_rhs)\n",
    "    \n",
    "  display_latex = f\"$$ {latex_lhs} = {latex_rhs} $$\"\n",
    "\n",
    "\n",
    "  return display_latex\n",
    "\n",
    "\n",
    "\n"
   ]
  },
  {
   "cell_type": "code",
   "execution_count": 193,
   "metadata": {},
   "outputs": [
    {
     "data": {
      "text/latex": [
       "$\\displaystyle  (d/dx_{f)} f_{1} gpp + \\frac{(d^{2}/dx_f^{2}) f_{0} gp^{2}}{\\epsilon^{2}} + 2 (d^{2}/dx_fdx_s) f_{1} gp + (d^{2}/dx_s^{2}) \\epsilon f_{1} + (d^{2}/dx_s^{2}) f_{0} + \\frac{(d/dx_{f)} f_{0} gpp + (d^{2}/dx_f^{2}) f_{1} gp^{2} + 2 (d^{2}/dx_fdx_s) f_{0} gp}{\\epsilon} = - f_{1} e^{- t} - \\frac{f_{0} e^{- t}}{\\epsilon} $"
      ],
      "text/plain": [
       "<IPython.core.display.Math object>"
      ]
     },
     "metadata": {},
     "output_type": "display_data"
    }
   ],
   "source": [
    "if __name__ == \"__main__\":\n",
    "  t = symbols('t')\n",
    "  f_t = symbols('f_t')\n",
    "  d2 = symbols(\"d2\")  \n",
    "  d = symbols(\"d\")\n",
    "  epsilon = symbols('epsilon')\n",
    "\n",
    "  ode = Eq(d2*f_t, -(exp(-t)/epsilon)*f_t)\n",
    "  #ode = Eq(d2 * f_t + d * f_t, ((t + 1) / epsilon**2) * f_t)\n",
    "\n",
    "  latex = WKB_Ansantz(ode, epsilon, d2, d, f_t)\n",
    "\n",
    "\n",
    "  display(Math(latex))"
   ]
  }
 ],
 "metadata": {
  "kernelspec": {
   "display_name": "Python 3",
   "language": "python",
   "name": "python3"
  },
  "language_info": {
   "codemirror_mode": {
    "name": "ipython",
    "version": 3
   },
   "file_extension": ".py",
   "mimetype": "text/x-python",
   "name": "python",
   "nbconvert_exporter": "python",
   "pygments_lexer": "ipython3",
   "version": "3.9.6"
  }
 },
 "nbformat": 4,
 "nbformat_minor": 2
}
